{
 "cells": [
  {
   "cell_type": "code",
   "execution_count": 3,
   "metadata": {
    "collapsed": true
   },
   "outputs": [],
   "source": [
    "import requests\n",
    "import json\n",
    "\n",
    "# Open Data of 5th Cabinet of Malaysia is available here:\n",
    "# http://sinar-malaysia.popit.mysociety.org/api/v0.1/organizations/55b72847916cff2b6d55ab7f\n",
    "\n",
    "# To learn more about how to use API https://sinar-malaysia.popit.mysociety.org/api\n",
    "\n",
    "request = requests.get('http://sinar-malaysia.popit.mysociety.org/api/v0.1/organizations/55b72847916cff2b6d55ab7f')\n",
    "\n",
    "members = json.loads(request.content)['result']['memberships']"
   ]
  },
  {
   "cell_type": "code",
   "execution_count": 4,
   "metadata": {
    "collapsed": false
   },
   "outputs": [],
   "source": [
    "def uniq(seq):\n",
    "    #http://www.peterbe.com/plog/uniqifiers-benchmark\n",
    "    seen = set()\n",
    "    seen_add = seen.add\n",
    "    return [ x for x in seq if not (x in seen or seen_add(x))]\n"
   ]
  },
  {
   "cell_type": "code",
   "execution_count": 5,
   "metadata": {
    "collapsed": false
   },
   "outputs": [
    {
     "name": "stdout",
     "output_type": "stream",
     "text": [
      "We have 68 Ministers!\n"
     ]
    }
   ],
   "source": [
    "#Minister IDs, we will use uniq here to remove duplicates, because some posts are held by same person\n",
    "#eg. PM and Finance Minister.\n",
    "\n",
    "person_ids = []\n",
    "for person in members:\n",
    "    person_ids.append(person['person_id'])\n",
    "\n",
    "person_ids = uniq(person_ids)\n",
    "\n",
    "#how many ministers?\n",
    "\n",
    "print \"We have \" + str(len(person_ids)) + \" Ministers!\"\n"
   ]
  },
  {
   "cell_type": "markdown",
   "metadata": {
    "collapsed": true
   },
   "source": [
    "TODO Examples:\n",
    "\n",
    "- Get list of Posts\n",
    "- Get list of Names and details of people holding the posts\n",
    "- To fun examples like average age etc."
   ]
  },
  {
   "cell_type": "code",
   "execution_count": null,
   "metadata": {
    "collapsed": true
   },
   "outputs": [],
   "source": []
  }
 ],
 "metadata": {
  "kernelspec": {
   "display_name": "Python 2",
   "language": "python",
   "name": "python2"
  },
  "language_info": {
   "codemirror_mode": {
    "name": "ipython",
    "version": 2
   },
   "file_extension": ".py",
   "mimetype": "text/x-python",
   "name": "python",
   "nbconvert_exporter": "python",
   "pygments_lexer": "ipython2",
   "version": "2.7.9"
  }
 },
 "nbformat": 4,
 "nbformat_minor": 0
}
