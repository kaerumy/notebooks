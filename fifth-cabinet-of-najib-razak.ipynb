{
 "cells": [
  {
   "cell_type": "code",
   "execution_count": 1,
   "metadata": {
    "collapsed": true
   },
   "outputs": [],
   "source": [
    "import requests\n",
    "import json\n",
    "\n",
    "request = requests.get('http://sinar-malaysia.popit.mysociety.org/api/v0.1/organizations/55b72847916cff2b6d55ab7f')\n",
    "\n",
    "members = json.loads(request.content)['result']['memberships']"
   ]
  },
  {
   "cell_type": "code",
   "execution_count": 3,
   "metadata": {
    "collapsed": false
   },
   "outputs": [],
   "source": [
    "def uniq(seq):\n",
    "    #http://www.peterbe.com/plog/uniqifiers-benchmark\n",
    "    seen = set()\n",
    "    seen_add = seen.add\n",
    "    return [ x for x in seq if not (x in seen or seen_add(x))]\n"
   ]
  },
  {
   "cell_type": "code",
   "execution_count": 8,
   "metadata": {
    "collapsed": false
   },
   "outputs": [
    {
     "data": {
      "text/plain": [
       "68"
      ]
     },
     "execution_count": 8,
     "metadata": {},
     "output_type": "execute_result"
    }
   ],
   "source": [
    "#Minister IDs, we will use uniq here to remove duplicates, because some posts are held by same person\n",
    "#eg. PM and Finance Minister.\n",
    "\n",
    "person_ids = []\n",
    "for person in members:\n",
    "    person_ids.append(person['person_id'])\n",
    "\n",
    "person_ids = uniq(person_ids)\n",
    "\n",
    "#how many ministers?\n",
    "\n",
    "print \"We have\" len(person_ids)\n"
   ]
  },
  {
   "cell_type": "code",
   "execution_count": null,
   "metadata": {
    "collapsed": true
   },
   "outputs": [],
   "source": []
  }
 ],
 "metadata": {
  "kernelspec": {
   "display_name": "Python 2",
   "language": "python",
   "name": "python2"
  },
  "language_info": {
   "codemirror_mode": {
    "name": "ipython",
    "version": 2
   },
   "file_extension": ".py",
   "mimetype": "text/x-python",
   "name": "python",
   "nbconvert_exporter": "python",
   "pygments_lexer": "ipython2",
   "version": "2.7.9"
  }
 },
 "nbformat": 4,
 "nbformat_minor": 0
}
